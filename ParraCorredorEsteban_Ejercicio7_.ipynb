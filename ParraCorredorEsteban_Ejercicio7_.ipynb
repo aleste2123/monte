{
  "cells": [
    {
      "cell_type": "markdown",
      "source": [
        "## Librerias"
      ],
      "metadata": {
        "id": "Ca47pvrzRXMy"
      },
      "id": "Ca47pvrzRXMy"
    },
    {
      "cell_type": "code",
      "execution_count": 2,
      "id": "6f64d18c-e6fe-4328-a15d-9344842eabd1",
      "metadata": {
        "id": "6f64d18c-e6fe-4328-a15d-9344842eabd1"
      },
      "outputs": [],
      "source": [
        "import numpy as np\n",
        "import matplotlib.pyplot as plt"
      ]
    },
    {
      "cell_type": "markdown",
      "source": [
        "## Problema\n",
        "\n",
        "A partir del método de Montecarlo, calcule el volumen de un cono cuya base tiene radio $1$, y cuya altura es $3$, con 100000 (cien mil puntos de Montecarlo). Guarde el volumen en la variable `volume_cone`, al final incluya el siguiente `print `para la evaluación de su ejercicio. \n",
        "\n",
        "\n",
        "\n",
        "```\n",
        "print(f\"Volume of a cone = {volume_cone}\")\n",
        "```\n",
        "\n",
        "Puede guiarse a partir del siguiente [notebook](https://github.com/diegour1/CompMetodosComputacionales/blob/main/Notebooks/04%20-%20Monte-Carlo-Method.ipynb)"
      ],
      "metadata": {
        "id": "-tn9unovTwJ4"
      },
      "id": "-tn9unovTwJ4"
    },
    {
      "cell_type": "markdown",
      "source": [
        "  a) Empiece creando 3 listas de 100000 numeros aleatorios con probabilidad uniforme $x$ , $y$ y $z$. ¿Cuales son los límites $x$, $y$ y $z$ del paralepipedo resultante?"
      ],
      "metadata": {
        "id": "4vh-B44hYQZX"
      },
      "id": "4vh-B44hYQZX"
    },
    {
      "cell_type": "code",
      "source": [
        "## su codigo aqui\n",
        "x=np.random.rand(100000)*2-1\n",
        "y = np.random.rand(100000)*2 -1\n",
        "z= np.random.rand(100000)*3\n",
        "\n",
        "print(\"Los límites son los siguientes:\")\n",
        "print(\"x: \", x)\n",
        "print(\"y: \", y)\n",
        "print(\"z: \", z)\n",
        "\n"
      ],
      "metadata": {
        "id": "AoJU2ACpX9Ds",
        "colab": {
          "base_uri": "https://localhost:8080/"
        },
        "outputId": "dd5cbbb5-09d2-4c32-b6a5-77902f546511"
      },
      "id": "AoJU2ACpX9Ds",
      "execution_count": 36,
      "outputs": [
        {
          "output_type": "stream",
          "name": "stdout",
          "text": [
            "Los límites son los siguientes:\n",
            "x:  [ 0.60897775 -0.97367235 -0.12592961 ...  0.45647912 -0.97557295\n",
            " -0.72544173]\n",
            "y:  [ 0.84600296  0.7345193  -0.99859545 ...  0.66680722 -0.02718412\n",
            "  0.35626432]\n",
            "z:  [0.58915315 1.88225826 2.19576763 ... 2.04583767 2.82315343 2.9664613 ]\n"
          ]
        }
      ]
    },
    {
      "cell_type": "markdown",
      "source": [
        "b) Escriba la función f(x, y) que define el limite del cono, es decir los puntos que están debajo de esa función hacen parte del cono. "
      ],
      "metadata": {
        "id": "V26zVI-YZA88"
      },
      "id": "V26zVI-YZA88"
    },
    {
      "cell_type": "code",
      "source": [
        "def f(x, y):\n",
        "  res = (3)*(x**2+y**2)**(0.5)\n",
        "  return res\n"
      ],
      "metadata": {
        "id": "dgkKsu2YZBMN"
      },
      "id": "dgkKsu2YZBMN",
      "execution_count": 34,
      "outputs": []
    },
    {
      "cell_type": "markdown",
      "source": [
        "c) A partir del metodo de Monte Carlo, halle el volumen del cono."
      ],
      "metadata": {
        "id": "zWzE6ZguZ3z3"
      },
      "id": "zWzE6ZguZ3z3"
    },
    {
      "cell_type": "code",
      "source": [
        "\n",
        "## su codigo aqui\n",
        "counter = 0\n",
        "\n",
        "for every in range(0,len(x)):\n",
        "  if (f(x[every],y[every])) < z[every]:\n",
        "    counter += 1\n",
        "print(counter)\n",
        "volume_cone = 12*counter/(100000)\n",
        "\n",
        "\n",
        "print(f\"Volume of a cone = {volume_cone}\")"
      ],
      "metadata": {
        "id": "kTN_ZGDMZU_r",
        "colab": {
          "base_uri": "https://localhost:8080/"
        },
        "outputId": "5c9974c6-83e8-43e9-8f95-af9b0e3ea945"
      },
      "id": "kTN_ZGDMZU_r",
      "execution_count": 35,
      "outputs": [
        {
          "output_type": "stream",
          "name": "stdout",
          "text": [
            "26279\n",
            "Volume of a cone = 3.15348\n"
          ]
        }
      ]
    }
  ],
  "metadata": {
    "kernelspec": {
      "display_name": "Python 3 (ipykernel)",
      "language": "python",
      "name": "python3"
    },
    "language_info": {
      "codemirror_mode": {
        "name": "ipython",
        "version": 3
      },
      "file_extension": ".py",
      "mimetype": "text/x-python",
      "name": "python",
      "nbconvert_exporter": "python",
      "pygments_lexer": "ipython3",
      "version": "3.7.12"
    },
    "colab": {
      "provenance": []
    }
  },
  "nbformat": 4,
  "nbformat_minor": 5
}